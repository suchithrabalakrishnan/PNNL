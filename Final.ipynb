{
 "cells": [
  {
   "cell_type": "code",
   "execution_count": 45,
   "metadata": {},
   "outputs": [
    {
     "data": {
      "text/plain": [
       "'Completed writing to output CDF file'"
      ]
     },
     "execution_count": 45,
     "metadata": {},
     "output_type": "execute_result"
    }
   ],
   "source": [
    "#TODO- write the outputs to netCDF4 files \n",
    "#    - check if input files exist\n",
    "#    - check input file format\n",
    "#    - check the time it starts (example if it start from mins not divisible by 5)\n",
    "\n",
    "import pandas as pd\n",
    "import numpy as np\n",
    "from netCDF4 import Dataset\n",
    "import xarray as xr\n",
    "import glob\n",
    "import os\n",
    "\n",
    "\n",
    "\n",
    "def aggregateData(input_files_list,required):  \n",
    "    \n",
    "    if input_files_list:\n",
    "\n",
    "        outputDF=pd.DataFrame() #empty dataframe to hold the output\n",
    "        for i in range(len(input_files)): #for every file in the Input DATA folder\n",
    "            df = (xr.open_dataset(input_files[i])).to_dataframe() #convert the netCDF4 data to a dataframe\n",
    "            df5min=df[required].resample(\"5T\").mean() #aggregating it to 5 mins interval\n",
    "            outputDF=outputDF.append(df5min) #keep appending to the result data frame\n",
    "\n",
    "        outputDF.rename(columns={'atmos_pressure':'atmospheric_pressure','rh_mean':'relative_humidity',\n",
    "                         'temp_mean':'mean_temperature'}, inplace=True) #changing the column names of the dataframe to required format\n",
    "        return outputDF\n",
    "    else:\n",
    "        return \"Cannot find input files\"\n",
    "\n",
    "\n",
    "def writeCDFfile(output_file_name,output_file_path,outputDF):\n",
    "    \n",
    "    if not os.path.exists(output_file_path):\n",
    "        os.makedirs(output_file_path)\n",
    "    \n",
    "    existing_output_files=glob.glob(\"output/*.cdf\")\n",
    "    \n",
    "    if output_file_name in existing_output_files:\n",
    "        return \"Please rename your output file\"\n",
    "    else:\n",
    "        f =Dataset(output_file_name,'w', format='NETCDF4') #'w' stands for write\n",
    "\n",
    "        time=f.createDimension('time',len(outputDF))\n",
    "        atmospheric_pressure=f.createVariable('atmospheric_pressure','f4','time')\n",
    "        relative_humidity=f.createVariable('relative_humidity','f4','time')\n",
    "        mean_temperature=f.createVariable('mean_temperature','f4','time')\n",
    "        timeVar=f.createVariable('time','f8','time')\n",
    "\n",
    "        atmospheric_pressure[:]=outputDF['atmospheric_pressure'].values\n",
    "        relative_humidity[:]=outputDF['relative_humidity'].values\n",
    "        mean_temperature[:]=outputDF['mean_temperature'].values\n",
    "        timeVar[:]=outputDF.index.values #TODO- date time conversion problem. recheck definition of datatype and units\n",
    "        f.close()\n",
    "        return \"Completed writing to output CDF file\"\n",
    "\n",
    "\n",
    "\n",
    "\n",
    "\n",
    "output_file_name='s1gpmetavgE13.b1.20180101.000000.cdf'\n",
    "output_file_path='output'\n",
    "input_files_list=glob.glob(\"DATA/*.cdf\") #get the list of input file names with the extension cdf in the input \"DATA\" folder\n",
    "\n",
    "required=['atmos_pressure','rh_mean','temp_mean'] #required columns to aggregate. If needed can add more column names to add in the output file\n",
    "\n",
    "#FUNCTION CALLS\n",
    "outputDF=aggregateData(input_files_list,required) #Calling the function to create an aggregated dataframe of all files\n",
    "writeCDFfile(output_file_name,output_file_path,outputDF) #Calling function to write the output to the outputCDF"
   ]
  },
  {
   "cell_type": "code",
   "execution_count": null,
   "metadata": {
    "collapsed": true
   },
   "outputs": [],
   "source": []
  },
  {
   "cell_type": "code",
   "execution_count": null,
   "metadata": {
    "collapsed": true
   },
   "outputs": [],
   "source": []
  },
  {
   "cell_type": "code",
   "execution_count": null,
   "metadata": {
    "collapsed": true
   },
   "outputs": [],
   "source": []
  },
  {
   "cell_type": "code",
   "execution_count": null,
   "metadata": {
    "collapsed": true
   },
   "outputs": [],
   "source": []
  },
  {
   "cell_type": "code",
   "execution_count": 1,
   "metadata": {
    "collapsed": true
   },
   "outputs": [],
   "source": [
    "#import pip\n",
    "#pip.main(['install','netCDF4'])\n",
    "#pip.main(['install','xarray'])\n",
    "#import netCDF4\n",
    "\n",
    "\n",
    "###Write in a class format\n",
    "\n",
    "\n",
    "#TODO- remove unneccessary packages\n",
    "#from matplotlib import pyplot as plt\n",
    "import pandas as pd\n",
    "#import netCDF4 as netcdf\n",
    "import numpy as np\n",
    "from netCDF4 import Dataset\n",
    "import xarray as xr\n",
    "import glob\n",
    "\n",
    "output_file_name='sgpmetavgE13.b1.20180101.000000.cdf'\n",
    "input_files=glob.glob(\"DATA/*.cdf\")\n",
    "input_files\n",
    "\n",
    "required=['atmos_pressure','rh_mean','temp_mean'] #required columns to aggregate. If needed can add more column names to add in the output file\n",
    "outputDF=pd.DataFrame() #empty dataframe to hold the output\n",
    "for i in range(len(input_files)): #for every file in the Input DATA folder\n",
    "    df = (xr.open_dataset(input_files[i])).to_dataframe() #convert the netCDF4 data to a dataframe\n",
    "    df5min=df[required].resample(\"5T\").mean() #aggregating it to 5 mins interval\n",
    "    outputDF=outputDF.append(df5min) #keep appending to the result data frame\n",
    "\n",
    "outputDF.rename(columns={'atmos_pressure':'atmospheric_pressure','rh_mean':'relative_humidity',\n",
    "                         'temp_mean':'mean_temperature'}, inplace=True) #changing the column names of the dataframe to required format\n",
    "#outputDF.head()\n",
    "\n",
    "#TODO- write the outputs to netCDF4 files \n",
    "#    - check if input files exist\n",
    "#    - check input file format\n",
    "#    - check the time it starts (example if it start from mins not divisible by 5)\n",
    "\n",
    "f =Dataset(output_file_name,'w', format='NETCDF4') #'w' stands for write\n",
    "\n",
    "time=f.createDimension('time',len(outputDF))\n",
    "atmospheric_pressure=f.createVariable('atmospheric_pressure','f4','time')\n",
    "relative_humidity=f.createVariable('relative_humidity','f4','time')\n",
    "mean_temperature=f.createVariable('mean_temperature','f4','time')\n",
    "timeVar=f.createVariable('time','f8','time')#,'f8','time')\n",
    "\n",
    "atmospheric_pressure[:]=outputDF['atmospheric_pressure'].values\n",
    "relative_humidity[:]=outputDF['relative_humidity'].values\n",
    "mean_temperature[:]=outputDF['mean_temperature'].values\n",
    "\n",
    "\n",
    "timeVar[:]=outputDF.index.values #TODO- date time conversion problem. check in the definition of datatype and units\n",
    "#time.units = 'hours since 0001-01-01 00:00:00.0'\n",
    "#date2num(dates,units=times.units,calendar=times.calendar)\n",
    "#timedate2num(dates,units=times.units,calendar=times.calendar)\n",
    "f.close()\n",
    "\n",
    "df = (xr.open_dataset(output_file_name)).to_dataframe()\n",
    "df.head()"
   ]
  }
 ],
 "metadata": {
  "kernelspec": {
   "display_name": "Python 3",
   "language": "python",
   "name": "python3"
  },
  "language_info": {
   "codemirror_mode": {
    "name": "ipython",
    "version": 3
   },
   "file_extension": ".py",
   "mimetype": "text/x-python",
   "name": "python",
   "nbconvert_exporter": "python",
   "pygments_lexer": "ipython3",
   "version": "3.6.1"
  }
 },
 "nbformat": 4,
 "nbformat_minor": 2
}
